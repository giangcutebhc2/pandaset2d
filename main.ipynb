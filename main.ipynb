{
 "cells": [
  {
   "cell_type": "markdown",
   "id": "6c64181f",
   "metadata": {
    "papermill": {
     "duration": 0.005715,
     "end_time": "2023-10-12T07:03:32.025805",
     "exception": false,
     "start_time": "2023-10-12T07:03:32.020090",
     "status": "completed"
    },
    "tags": []
   },
   "source": [
    "## Change working dir"
   ]
  },
  {
   "cell_type": "code",
   "execution_count": 1,
   "id": "0d67e229",
   "metadata": {
    "_cell_guid": "b1076dfc-b9ad-4769-8c92-a6c4dae69d19",
    "_uuid": "8f2839f25d086af736a60e9eeb907d3b93b6e0e5",
    "execution": {
     "iopub.execute_input": "2023-10-12T07:03:32.038917Z",
     "iopub.status.busy": "2023-10-12T07:03:32.038435Z",
     "iopub.status.idle": "2023-10-12T07:05:33.729664Z",
     "shell.execute_reply": "2023-10-12T07:05:33.728434Z"
    },
    "papermill": {
     "duration": 121.700736,
     "end_time": "2023-10-12T07:05:33.732075",
     "exception": false,
     "start_time": "2023-10-12T07:03:32.031339",
     "status": "completed"
    },
    "tags": []
   },
   "outputs": [],
   "source": [
    "import os\n",
    "!cp -r /kaggle/input/pandaset-2d-images/Pandaset /kaggle/working\n",
    "os.chdir('/kaggle/working/Pandaset')"
   ]
  },
  {
   "cell_type": "markdown",
   "id": "df1f8ea9",
   "metadata": {
    "papermill": {
     "duration": 0.004833,
     "end_time": "2023-10-12T07:05:33.742338",
     "exception": false,
     "start_time": "2023-10-12T07:05:33.737505",
     "status": "completed"
    },
    "tags": []
   },
   "source": [
    "## Prepare data"
   ]
  },
  {
   "cell_type": "code",
   "execution_count": 2,
   "id": "a073753a",
   "metadata": {
    "execution": {
     "iopub.execute_input": "2023-10-12T07:05:33.755177Z",
     "iopub.status.busy": "2023-10-12T07:05:33.754152Z",
     "iopub.status.idle": "2023-10-12T07:05:33.759215Z",
     "shell.execute_reply": "2023-10-12T07:05:33.758369Z"
    },
    "papermill": {
     "duration": 0.013603,
     "end_time": "2023-10-12T07:05:33.761075",
     "exception": false,
     "start_time": "2023-10-12T07:05:33.747472",
     "status": "completed"
    },
    "tags": []
   },
   "outputs": [],
   "source": [
    "import numpy as np\n",
    "import random\n",
    "import shutil"
   ]
  },
  {
   "cell_type": "code",
   "execution_count": 3,
   "id": "7ace5670",
   "metadata": {
    "execution": {
     "iopub.execute_input": "2023-10-12T07:05:33.772457Z",
     "iopub.status.busy": "2023-10-12T07:05:33.771880Z",
     "iopub.status.idle": "2023-10-12T07:05:33.776416Z",
     "shell.execute_reply": "2023-10-12T07:05:33.775615Z"
    },
    "papermill": {
     "duration": 0.012542,
     "end_time": "2023-10-12T07:05:33.778499",
     "exception": false,
     "start_time": "2023-10-12T07:05:33.765957",
     "status": "completed"
    },
    "tags": []
   },
   "outputs": [],
   "source": [
    "train_images_dir = 'images'\n",
    "train_maps_dir = 'semanticLabels'"
   ]
  },
  {
   "cell_type": "code",
   "execution_count": 4,
   "id": "cb9cf14f",
   "metadata": {
    "execution": {
     "iopub.execute_input": "2023-10-12T07:05:33.789812Z",
     "iopub.status.busy": "2023-10-12T07:05:33.789409Z",
     "iopub.status.idle": "2023-10-12T07:05:33.798705Z",
     "shell.execute_reply": "2023-10-12T07:05:33.797576Z"
    },
    "papermill": {
     "duration": 0.016929,
     "end_time": "2023-10-12T07:05:33.800548",
     "exception": false,
     "start_time": "2023-10-12T07:05:33.783619",
     "status": "completed"
    },
    "tags": []
   },
   "outputs": [
    {
     "name": "stdout",
     "output_type": "stream",
     "text": [
      "There are 2560 of images\n",
      "There are 2560 of masks\n"
     ]
    }
   ],
   "source": [
    "train_images = np.array(os.listdir(train_images_dir), dtype = object)\n",
    "train_maps = np.array(os.listdir(train_maps_dir), dtype = object)\n",
    "\n",
    "print(f\"There are {len(train_images)} of images\")\n",
    "print(f\"There are {len(train_maps)} of masks\")"
   ]
  },
  {
   "cell_type": "code",
   "execution_count": 5,
   "id": "3a57a333",
   "metadata": {
    "execution": {
     "iopub.execute_input": "2023-10-12T07:05:33.812236Z",
     "iopub.status.busy": "2023-10-12T07:05:33.812002Z",
     "iopub.status.idle": "2023-10-12T07:05:33.816480Z",
     "shell.execute_reply": "2023-10-12T07:05:33.815475Z"
    },
    "papermill": {
     "duration": 0.012646,
     "end_time": "2023-10-12T07:05:33.818217",
     "exception": false,
     "start_time": "2023-10-12T07:05:33.805571",
     "status": "completed"
    },
    "tags": []
   },
   "outputs": [],
   "source": [
    "if os.path.exists(\"val_images\") == False:\n",
    "    os.mkdir(\"val_images\")\n",
    "\n",
    "if os.path.exists(\"val_segmaps\") == False:\n",
    "    os.mkdir(\"val_segmaps\")"
   ]
  },
  {
   "cell_type": "code",
   "execution_count": 6,
   "id": "99059c1c",
   "metadata": {
    "execution": {
     "iopub.execute_input": "2023-10-12T07:05:33.829545Z",
     "iopub.status.busy": "2023-10-12T07:05:33.828954Z",
     "iopub.status.idle": "2023-10-12T07:05:33.834785Z",
     "shell.execute_reply": "2023-10-12T07:05:33.833870Z"
    },
    "papermill": {
     "duration": 0.013212,
     "end_time": "2023-10-12T07:05:33.836381",
     "exception": false,
     "start_time": "2023-10-12T07:05:33.823169",
     "status": "completed"
    },
    "tags": []
   },
   "outputs": [],
   "source": [
    "data_len = 2560\n",
    "def update_train():\n",
    "    global train_images, train_maps\n",
    "    train_images = np.array(os.listdir(train_images_dir), dtype = object)\n",
    "    train_maps = np.array(os.listdir(train_maps_dir), dtype = object)\n",
    "\n",
    "def split_data(split_img_dir, split_map_dir, percentage = 0.2):\n",
    "    n = int(data_len * percentage)\n",
    "    ids = np.random.choice(train_images, n, replace = False)\n",
    "    for sample in ids:\n",
    "        img_fp = os.path.join(train_images_dir, sample)\n",
    "        map_fp = os.path.join(train_maps_dir, sample[:-4]+'.png')\n",
    "        \n",
    "        os.system(f\"mv {img_fp} {split_img_dir}\")\n",
    "        os.system(f\"mv {map_fp} {split_map_dir}\")\n",
    "\n",
    "    #update training images list\n",
    "    update_train()"
   ]
  },
  {
   "cell_type": "code",
   "execution_count": 7,
   "id": "e4b49c1a",
   "metadata": {
    "execution": {
     "iopub.execute_input": "2023-10-12T07:05:33.847482Z",
     "iopub.status.busy": "2023-10-12T07:05:33.846888Z",
     "iopub.status.idle": "2023-10-12T07:05:38.906574Z",
     "shell.execute_reply": "2023-10-12T07:05:38.905566Z"
    },
    "papermill": {
     "duration": 5.067903,
     "end_time": "2023-10-12T07:05:38.908971",
     "exception": false,
     "start_time": "2023-10-12T07:05:33.841068",
     "status": "completed"
    },
    "tags": []
   },
   "outputs": [],
   "source": [
    "val_images_dir = 'val_images'\n",
    "val_maps_dir = 'val_segmaps'\n",
    "\n",
    "# train val 75 25\n",
    "split_data(val_images_dir, val_maps_dir, 0.25)"
   ]
  },
  {
   "cell_type": "markdown",
   "id": "8d86eb29",
   "metadata": {
    "papermill": {
     "duration": 0.004762,
     "end_time": "2023-10-12T07:05:38.919011",
     "exception": false,
     "start_time": "2023-10-12T07:05:38.914249",
     "status": "completed"
    },
    "tags": []
   },
   "source": [
    "## Check preparing data"
   ]
  },
  {
   "cell_type": "code",
   "execution_count": 8,
   "id": "d69c76a1",
   "metadata": {
    "execution": {
     "iopub.execute_input": "2023-10-12T07:05:38.930714Z",
     "iopub.status.busy": "2023-10-12T07:05:38.930050Z",
     "iopub.status.idle": "2023-10-12T07:05:38.938551Z",
     "shell.execute_reply": "2023-10-12T07:05:38.937610Z"
    },
    "papermill": {
     "duration": 0.01612,
     "end_time": "2023-10-12T07:05:38.940296",
     "exception": false,
     "start_time": "2023-10-12T07:05:38.924176",
     "status": "completed"
    },
    "tags": []
   },
   "outputs": [
    {
     "name": "stdout",
     "output_type": "stream",
     "text": [
      "There are 1920 of images\n",
      "There are 1920 of masks\n"
     ]
    }
   ],
   "source": [
    "train_images = np.array(os.listdir(train_images_dir), dtype = object)\n",
    "train_maps = np.array(os.listdir(train_maps_dir), dtype = object)\n",
    "\n",
    "print(f\"There are {len(train_images)} of images\")\n",
    "print(f\"There are {len(train_maps)} of masks\")"
   ]
  },
  {
   "cell_type": "code",
   "execution_count": 9,
   "id": "bf5d2d0b",
   "metadata": {
    "execution": {
     "iopub.execute_input": "2023-10-12T07:05:38.951664Z",
     "iopub.status.busy": "2023-10-12T07:05:38.951255Z",
     "iopub.status.idle": "2023-10-12T07:05:38.957605Z",
     "shell.execute_reply": "2023-10-12T07:05:38.956552Z"
    },
    "papermill": {
     "duration": 0.013923,
     "end_time": "2023-10-12T07:05:38.959283",
     "exception": false,
     "start_time": "2023-10-12T07:05:38.945360",
     "status": "completed"
    },
    "tags": []
   },
   "outputs": [
    {
     "name": "stdout",
     "output_type": "stream",
     "text": [
      "There are 640 of val images\n",
      "There are 640 of val masks\n"
     ]
    }
   ],
   "source": [
    "val_images = np.array(os.listdir(val_images_dir), dtype = object)\n",
    "val_maps = np.array(os.listdir(val_maps_dir), dtype = object)\n",
    "\n",
    "print(f\"There are {len(val_images)} of val images\")\n",
    "print(f\"There are {len(val_maps)} of val masks\")"
   ]
  },
  {
   "cell_type": "code",
   "execution_count": 10,
   "id": "4f13113f",
   "metadata": {
    "execution": {
     "iopub.execute_input": "2023-10-12T07:05:38.971029Z",
     "iopub.status.busy": "2023-10-12T07:05:38.970467Z",
     "iopub.status.idle": "2023-10-12T07:05:49.365203Z",
     "shell.execute_reply": "2023-10-12T07:05:49.364224Z"
    },
    "papermill": {
     "duration": 10.40288,
     "end_time": "2023-10-12T07:05:49.367335",
     "exception": false,
     "start_time": "2023-10-12T07:05:38.964455",
     "status": "completed"
    },
    "tags": []
   },
   "outputs": [
    {
     "name": "stderr",
     "output_type": "stream",
     "text": [
      "/opt/conda/lib/python3.10/site-packages/scipy/__init__.py:146: UserWarning: A NumPy version >=1.16.5 and <1.23.0 is required for this version of SciPy (detected version 1.23.5\n",
      "  warnings.warn(f\"A NumPy version >={np_minversion} and <{np_maxversion}\"\n"
     ]
    }
   ],
   "source": [
    "import cv2\n",
    "from PIL import Image\n",
    "import albumentations as A\n",
    "import matplotlib.pyplot as plt\n",
    "from tensorflow.keras.utils import Sequence"
   ]
  },
  {
   "cell_type": "code",
   "execution_count": 11,
   "id": "3232089d",
   "metadata": {
    "execution": {
     "iopub.execute_input": "2023-10-12T07:05:49.379098Z",
     "iopub.status.busy": "2023-10-12T07:05:49.378458Z",
     "iopub.status.idle": "2023-10-12T07:05:49.383012Z",
     "shell.execute_reply": "2023-10-12T07:05:49.382075Z"
    },
    "papermill": {
     "duration": 0.012181,
     "end_time": "2023-10-12T07:05:49.384642",
     "exception": false,
     "start_time": "2023-10-12T07:05:49.372461",
     "status": "completed"
    },
    "tags": []
   },
   "outputs": [],
   "source": [
    "from tensorflow.keras.utils import to_categorical"
   ]
  },
  {
   "cell_type": "code",
   "execution_count": 12,
   "id": "3805c647",
   "metadata": {
    "execution": {
     "iopub.execute_input": "2023-10-12T07:05:49.395377Z",
     "iopub.status.busy": "2023-10-12T07:05:49.395106Z",
     "iopub.status.idle": "2023-10-12T07:05:49.398693Z",
     "shell.execute_reply": "2023-10-12T07:05:49.397778Z"
    },
    "papermill": {
     "duration": 0.010848,
     "end_time": "2023-10-12T07:05:49.400300",
     "exception": false,
     "start_time": "2023-10-12T07:05:49.389452",
     "status": "completed"
    },
    "tags": []
   },
   "outputs": [],
   "source": [
    "from sklearn.preprocessing import LabelEncoder\n",
    "n_classes = 13\n",
    "labelencoder = LabelEncoder()"
   ]
  },
  {
   "cell_type": "code",
   "execution_count": 13,
   "id": "6eca3d69",
   "metadata": {
    "execution": {
     "iopub.execute_input": "2023-10-12T07:05:49.411517Z",
     "iopub.status.busy": "2023-10-12T07:05:49.410739Z",
     "iopub.status.idle": "2023-10-12T07:05:49.419062Z",
     "shell.execute_reply": "2023-10-12T07:05:49.418255Z"
    },
    "papermill": {
     "duration": 0.015719,
     "end_time": "2023-10-12T07:05:49.420759",
     "exception": false,
     "start_time": "2023-10-12T07:05:49.405040",
     "status": "completed"
    },
    "tags": []
   },
   "outputs": [],
   "source": [
    "class Dataset:\n",
    "    def __init__(self, \n",
    "               images_dir,\n",
    "               maps_dir,\n",
    "               augmentation = None,\n",
    "               preprocessing = None):\n",
    "        self.img_ids = os.listdir(images_dir) \n",
    "\n",
    "        self.img_fps = [os.path.join(images_dir, id ) for id in self.img_ids]\n",
    "        self.map_fps = [os.path.join(maps_dir, id[:-4]+'.png' ) for id in self.img_ids]\n",
    "        self.maps_dir = maps_dir\n",
    "        self.augmentation = augmentation\n",
    "        self.preprocessing = preprocessing\n",
    "\n",
    "\n",
    "    def __getitem__(self, idx):\n",
    "        image = np.load(os.path.join(self.img_fps[idx]))\n",
    "        image = image.astype(np.float32)/255\n",
    "\n",
    "        map = Image.open(os.path.join(self.map_fps[idx]))\n",
    "        map = np.array(map).astype('uint8')\n",
    "        \n",
    "        map = np.expand_dims(map, axis = -1)\n",
    "\n",
    "        n, h, w = map.shape\n",
    "        train_masks_reshaped = map.reshape(-1,1)\n",
    "        train_masks_reshaped = np.ravel(train_masks_reshaped)\n",
    "        train_masks_reshaped_encoded = labelencoder.fit_transform(train_masks_reshaped)\n",
    "        map = train_masks_reshaped_encoded.reshape(n, h, w)\n",
    "        \n",
    "        map = to_categorical(map, num_classes=n_classes)\n",
    "        #flip\n",
    "        if np.random.rand() < 0.5:\n",
    "            image = image[:, ::-1, :]\n",
    "            map = map[:, ::-1, :]\n",
    "\n",
    "        return image, map.astype(np.float32)\n",
    "\n",
    "    def __len__(self):\n",
    "        return len(self.img_ids)"
   ]
  },
  {
   "cell_type": "code",
   "execution_count": 14,
   "id": "fdcd4250",
   "metadata": {
    "execution": {
     "iopub.execute_input": "2023-10-12T07:05:49.431895Z",
     "iopub.status.busy": "2023-10-12T07:05:49.431254Z",
     "iopub.status.idle": "2023-10-12T07:05:49.437607Z",
     "shell.execute_reply": "2023-10-12T07:05:49.436682Z"
    },
    "papermill": {
     "duration": 0.013705,
     "end_time": "2023-10-12T07:05:49.439287",
     "exception": false,
     "start_time": "2023-10-12T07:05:49.425582",
     "status": "completed"
    },
    "tags": []
   },
   "outputs": [],
   "source": [
    "class DataLoader(Sequence):\n",
    "    def __init__(self, dataset, batch_size = 1, shuffle = False):\n",
    "        self.indices = np.arange(len(dataset))\n",
    "        self.dataset = dataset\n",
    "        self.batch_size = batch_size\n",
    "        self.shuffle = shuffle\n",
    "        self.on_epoch_end()\n",
    "        \n",
    "\n",
    "    def __getitem__(self, i):\n",
    "        start = i * self.batch_size\n",
    "        stop = (i + 1) * self.batch_size\n",
    "\n",
    "        data = []\n",
    "        for idx in range(start, stop):\n",
    "            data.append(self.dataset[idx])\n",
    "\n",
    "        batch = [np.stack(samples, axis = 0) for samples in zip(*data)]\n",
    "\n",
    "        return batch\n",
    "\n",
    "    def __len__(self):\n",
    "        return len(self.indices) // self.batch_size\n",
    "  \n",
    "    def on_epoch_end(self):\n",
    "        if self.shuffle:\n",
    "            self.indices = np.random.permutation(self.indices)"
   ]
  },
  {
   "cell_type": "code",
   "execution_count": 15,
   "id": "08ccf76e",
   "metadata": {
    "execution": {
     "iopub.execute_input": "2023-10-12T07:05:49.450531Z",
     "iopub.status.busy": "2023-10-12T07:05:49.450162Z",
     "iopub.status.idle": "2023-10-12T07:05:49.458874Z",
     "shell.execute_reply": "2023-10-12T07:05:49.458103Z"
    },
    "papermill": {
     "duration": 0.01639,
     "end_time": "2023-10-12T07:05:49.460483",
     "exception": false,
     "start_time": "2023-10-12T07:05:49.444093",
     "status": "completed"
    },
    "tags": []
   },
   "outputs": [],
   "source": [
    "dataset = Dataset(train_images_dir, train_maps_dir)\n"
   ]
  },
  {
   "cell_type": "code",
   "execution_count": 16,
   "id": "77a80c00",
   "metadata": {
    "execution": {
     "iopub.execute_input": "2023-10-12T07:05:49.471428Z",
     "iopub.status.busy": "2023-10-12T07:05:49.471120Z",
     "iopub.status.idle": "2023-10-12T07:05:49.475199Z",
     "shell.execute_reply": "2023-10-12T07:05:49.474355Z"
    },
    "papermill": {
     "duration": 0.011986,
     "end_time": "2023-10-12T07:05:49.477394",
     "exception": false,
     "start_time": "2023-10-12T07:05:49.465408",
     "status": "completed"
    },
    "tags": []
   },
   "outputs": [],
   "source": [
    "BATCH_SIZE = 8\n",
    "NUM_CLASSES = 13\n",
    "IMG_HEIGHT=64\n",
    "IMG_WIDTH=1856\n",
    "IMG_CHANNELS=5"
   ]
  },
  {
   "cell_type": "code",
   "execution_count": 17,
   "id": "7ad63dbd",
   "metadata": {
    "execution": {
     "iopub.execute_input": "2023-10-12T07:05:49.488026Z",
     "iopub.status.busy": "2023-10-12T07:05:49.487790Z",
     "iopub.status.idle": "2023-10-12T07:05:49.498236Z",
     "shell.execute_reply": "2023-10-12T07:05:49.497498Z"
    },
    "papermill": {
     "duration": 0.017749,
     "end_time": "2023-10-12T07:05:49.499921",
     "exception": false,
     "start_time": "2023-10-12T07:05:49.482172",
     "status": "completed"
    },
    "tags": []
   },
   "outputs": [],
   "source": [
    "train_dataset = Dataset(\n",
    "    train_images_dir, \n",
    "    train_maps_dir,\n",
    ")\n",
    "\n",
    "# print(sample_img.shape, sample_map.shape)\n",
    "# Dataset for validation images\n",
    "valid_dataset = Dataset(\n",
    "    val_images_dir, \n",
    "    val_maps_dir,\n",
    ")"
   ]
  },
  {
   "cell_type": "code",
   "execution_count": 18,
   "id": "211922d9",
   "metadata": {
    "execution": {
     "iopub.execute_input": "2023-10-12T07:05:49.510726Z",
     "iopub.status.busy": "2023-10-12T07:05:49.510199Z",
     "iopub.status.idle": "2023-10-12T07:05:49.515154Z",
     "shell.execute_reply": "2023-10-12T07:05:49.514426Z"
    },
    "papermill": {
     "duration": 0.012085,
     "end_time": "2023-10-12T07:05:49.516779",
     "exception": false,
     "start_time": "2023-10-12T07:05:49.504694",
     "status": "completed"
    },
    "tags": []
   },
   "outputs": [],
   "source": [
    "# LOADING DATA\n",
    "train_dataloader = DataLoader(train_dataset, batch_size=BATCH_SIZE, shuffle=True)\n",
    "valid_dataloader = DataLoader(valid_dataset, batch_size=1, shuffle=False)\n",
    "test_dataloader = DataLoader(valid_dataset, batch_size=1, shuffle=False)"
   ]
  },
  {
   "cell_type": "code",
   "execution_count": 19,
   "id": "99af496f",
   "metadata": {
    "execution": {
     "iopub.execute_input": "2023-10-12T07:05:49.527581Z",
     "iopub.status.busy": "2023-10-12T07:05:49.527330Z",
     "iopub.status.idle": "2023-10-12T07:05:49.537758Z",
     "shell.execute_reply": "2023-10-12T07:05:49.536867Z"
    },
    "papermill": {
     "duration": 0.01803,
     "end_time": "2023-10-12T07:05:49.539496",
     "exception": false,
     "start_time": "2023-10-12T07:05:49.521466",
     "status": "completed"
    },
    "tags": []
   },
   "outputs": [],
   "source": [
    "from keras.layers import Input, Conv2D, Concatenate, GlobalAveragePooling2D, Reshape, UpSampling2D\n",
    "from keras.models import Model\n",
    "\n",
    "\n",
    "def bn_relu(x, act=True):\n",
    "    x = keras.layers.BatchNormalization()(x)\n",
    "    if act == True:\n",
    "        x = keras.layers.Activation(\"relu\")(x)\n",
    "    return x\n",
    "\n",
    "def conv_block(x, filters, kernel_size=(3, 3), padding=\"same\", strides=1, dilation_rate = (1,1)):\n",
    "    conv = bn_relu(x)\n",
    "    conv = keras.layers.Conv2D(filters, kernel_size, padding=padding, strides=strides, dilation_rate = dilation_rate)(conv)\n",
    "    return conv\n",
    "\n",
    "def extract_input(x, filters, kernel_size=(3, 3), padding=\"same\", strides=1):\n",
    "    conv = keras.layers.Conv2D(filters, kernel_size, padding=padding, strides=strides)(x)\n",
    "    conv = conv_block(conv, filters, kernel_size=kernel_size, padding=padding, strides=strides)\n",
    "\n",
    "    shortcut = keras.layers.Conv2D(filters, kernel_size=(1, 1), padding=padding, strides=strides)(x)\n",
    "    shortcut = bn_relu(shortcut, act=False)\n",
    "\n",
    "    output = keras.layers.Add()([conv, shortcut])\n",
    "    return output\n",
    "\n",
    "def residual_block_with_rate(x, filters, kernel_size=(3, 3), padding=\"same\", strides=1):\n",
    "    res = conv_block(x, filters, kernel_size=kernel_size, padding=padding, strides=strides, dilation_rate = (1,1))\n",
    "    res = conv_block(res, filters, kernel_size=kernel_size, padding=padding, strides=1, dilation_rate = (1,6))\n",
    "\n",
    "    shortcut = keras.layers.Conv2D(filters, kernel_size=(1, 1), padding=padding, strides=strides)(x)\n",
    "    shortcut = bn_relu(shortcut, act=False)\n",
    "\n",
    "    output = keras.layers.Add()([shortcut, res])\n",
    "    return output\n",
    "\n",
    "\n",
    "def residual_block(x, filters, kernel_size=(3, 3), padding=\"same\", strides=1):\n",
    "    res = conv_block(x, filters, kernel_size=kernel_size, padding=padding, strides=strides)\n",
    "    res = conv_block(res, filters, kernel_size=kernel_size, padding=padding, strides=1)\n",
    "\n",
    "    shortcut = keras.layers.Conv2D(filters, kernel_size=(1, 1), padding=padding, strides=strides)(x)\n",
    "    shortcut = bn_relu(shortcut, act=False)\n",
    "\n",
    "    output = keras.layers.Add()([shortcut, res])\n",
    "    return output\n",
    "\n",
    "def upsample_concat_block(x, xskip):\n",
    "    u = keras.layers.UpSampling2D((2, 2))(x)\n",
    "    c = keras.layers.Concatenate()([u, xskip])\n",
    "    return c\n"
   ]
  },
  {
   "cell_type": "code",
   "execution_count": 20,
   "id": "c42419c2",
   "metadata": {
    "execution": {
     "iopub.execute_input": "2023-10-12T07:05:49.550417Z",
     "iopub.status.busy": "2023-10-12T07:05:49.549676Z",
     "iopub.status.idle": "2023-10-12T07:05:49.558428Z",
     "shell.execute_reply": "2023-10-12T07:05:49.557642Z"
    },
    "papermill": {
     "duration": 0.015898,
     "end_time": "2023-10-12T07:05:49.560065",
     "exception": false,
     "start_time": "2023-10-12T07:05:49.544167",
     "status": "completed"
    },
    "tags": []
   },
   "outputs": [],
   "source": [
    "def model():\n",
    "    filter_factor = [8, 16, 32, 64, 128]\n",
    "    inputs = keras.layers.Input((64, 1856, 5))\n",
    "\n",
    "    ## Tiny-ResNet\n",
    "    inp = inputs\n",
    "    extract_inp = extract_input(inp, filter_factor[0])\n",
    "    stage_1 = residual_block(extract_inp, filter_factor[0], strides=1)\n",
    "    stage_2 = residual_block(stage_1, filter_factor[1], strides=2)\n",
    "    stage_3 = residual_block(stage_2, filter_factor[2], strides=2)\n",
    "    stage_4 = residual_block_with_rate(stage_3, filter_factor[3], strides=2)\n",
    "    stage_5 = residual_block_with_rate(stage_4, filter_factor[4], strides=2)\n",
    "\n",
    "    ## ASPP\n",
    "    aspp_1 = keras.layers.Conv2D(100, kernel_size = (1,1), padding=\"same\", strides=1)(stage_5)\n",
    "    aspp_2 = keras.layers.Conv2D(100, kernel_size = (3,3), padding=\"same\", strides=1, dilation_rate=(1, 6))(stage_5)\n",
    "    aspp_3 = keras.layers.Conv2D(100, kernel_size = (3,3), padding=\"same\", strides=1, dilation_rate=(1, 12))(stage_5)\n",
    "    aspp_4 = keras.layers.Conv2D(100, kernel_size = (3,3), padding=\"same\", strides=1, dilation_rate=(1, 18))(stage_5)\n",
    "    concat = keras.layers.Concatenate()([aspp_1, aspp_2, aspp_3, aspp_4])\n",
    "    aspp = keras.layers.Conv2D(128, kernel_size = (1,1), padding=\"same\", strides=1)(concat)\n",
    "    \n",
    "    ## Decoder\n",
    "    upsample_1 = upsample_concat_block(aspp, stage_4)\n",
    "    features = residual_block(upsample_1, filter_factor[4])\n",
    "\n",
    "    upsample_2 = upsample_concat_block(upsample_1, stage_3)\n",
    "    features = residual_block(upsample_2, filter_factor[3])\n",
    "\n",
    "    upsample_3 = upsample_concat_block(upsample_2, stage_2)\n",
    "    features = residual_block(upsample_3, filter_factor[2])\n",
    "\n",
    "    upsample_4 = upsample_concat_block(upsample_3, stage_1)\n",
    "    features = residual_block(upsample_4, filter_factor[1])\n",
    "\n",
    "    outputs = keras.layers.Conv2D(13, (1, 1), padding=\"same\", activation=\"softmax\")(features)\n",
    "    model = keras.models.Model(inputs, outputs)\n",
    "    return model"
   ]
  },
  {
   "cell_type": "code",
   "execution_count": 21,
   "id": "1f5ccc28",
   "metadata": {
    "execution": {
     "iopub.execute_input": "2023-10-12T07:05:49.571341Z",
     "iopub.status.busy": "2023-10-12T07:05:49.570662Z",
     "iopub.status.idle": "2023-10-12T07:05:53.810305Z",
     "shell.execute_reply": "2023-10-12T07:05:53.809290Z"
    },
    "papermill": {
     "duration": 4.247612,
     "end_time": "2023-10-12T07:05:53.812668",
     "exception": false,
     "start_time": "2023-10-12T07:05:49.565056",
     "status": "completed"
    },
    "tags": []
   },
   "outputs": [],
   "source": [
    "import keras\n",
    "import tensorflow as tf\n",
    "\n",
    "\n",
    "model = model()\n",
    "adam = keras.optimizers.Adam(learning_rate=0.001)\n",
    "learning_rate_reduction = keras.callbacks.ReduceLROnPlateau(monitor='val_loss',\n",
    "                                                            factor=0.1,\n",
    "                                                            patience=5,\n",
    "                                                            verbose=1,\n",
    "                                                            mode='auto')\n",
    "\n",
    "checkpoint_filepath = '/tmp/checkpoint'\n",
    "model_checkpoint_callback = tf.keras.callbacks.ModelCheckpoint(\n",
    "    filepath=checkpoint_filepath,\n",
    "    save_weights_only=False,\n",
    "    monitor='val_mIoU',\n",
    "    mode='max',\n",
    "    save_best_only=True)\n",
    "\n",
    "import keras.backend as K\n",
    "def IoULoss(targets, inputs, smooth=1e-6):\n",
    "    targets = K.flatten(targets)\n",
    "    inputs = K.flatten(inputs)\n",
    "\n",
    "    # Reshape both targets and inputs to rank-2 tensors\n",
    "    targets = K.reshape(targets, (-1, 1))\n",
    "    inputs = K.reshape(inputs, (-1, 1))\n",
    "\n",
    "    intersection = K.sum(targets * inputs)\n",
    "    total = K.sum(targets) + K.sum(inputs) - intersection\n",
    "    union = total + smooth\n",
    "\n",
    "    iou = (intersection + smooth) / union\n",
    "    return 1 - iou\n",
    "\n",
    "def DiceLoss(targets, inputs, smooth=1e-6):\n",
    "\n",
    "    #flatten label and prediction tensors\n",
    "    inputs = K.flatten(inputs)\n",
    "    targets = K.flatten(targets)\n",
    "\n",
    "    intersection = K.sum(targets* inputs)\n",
    "    dice = (2*intersection + smooth) / (K.sum(targets) + K.sum(inputs) + smooth)\n",
    "    return 1 - dice\n"
   ]
  },
  {
   "cell_type": "code",
   "execution_count": 22,
   "id": "5e5a0ba3",
   "metadata": {
    "execution": {
     "iopub.execute_input": "2023-10-12T07:05:53.824809Z",
     "iopub.status.busy": "2023-10-12T07:05:53.824526Z",
     "iopub.status.idle": "2023-10-12T07:05:53.973108Z",
     "shell.execute_reply": "2023-10-12T07:05:53.972341Z"
    },
    "papermill": {
     "duration": 0.296858,
     "end_time": "2023-10-12T07:05:54.115159",
     "exception": false,
     "start_time": "2023-10-12T07:05:53.818301",
     "status": "completed"
    },
    "tags": []
   },
   "outputs": [
    {
     "name": "stdout",
     "output_type": "stream",
     "text": [
      "Model: \"model\"\n",
      "__________________________________________________________________________________________________\n",
      " Layer (type)                   Output Shape         Param #     Connected to                     \n",
      "==================================================================================================\n",
      " input_1 (InputLayer)           [(None, 64, 1856, 5  0           []                               \n",
      "                                )]                                                                \n",
      "                                                                                                  \n",
      " conv2d (Conv2D)                (None, 64, 1856, 8)  368         ['input_1[0][0]']                \n",
      "                                                                                                  \n",
      " batch_normalization (BatchNorm  (None, 64, 1856, 8)  32         ['conv2d[0][0]']                 \n",
      " alization)                                                                                       \n",
      "                                                                                                  \n",
      " activation (Activation)        (None, 64, 1856, 8)  0           ['batch_normalization[0][0]']    \n",
      "                                                                                                  \n",
      " conv2d_2 (Conv2D)              (None, 64, 1856, 8)  48          ['input_1[0][0]']                \n",
      "                                                                                                  \n",
      " conv2d_1 (Conv2D)              (None, 64, 1856, 8)  584         ['activation[0][0]']             \n",
      "                                                                                                  \n",
      " batch_normalization_1 (BatchNo  (None, 64, 1856, 8)  32         ['conv2d_2[0][0]']               \n",
      " rmalization)                                                                                     \n",
      "                                                                                                  \n",
      " add (Add)                      (None, 64, 1856, 8)  0           ['conv2d_1[0][0]',               \n",
      "                                                                  'batch_normalization_1[0][0]']  \n",
      "                                                                                                  \n",
      " batch_normalization_2 (BatchNo  (None, 64, 1856, 8)  32         ['add[0][0]']                    \n",
      " rmalization)                                                                                     \n",
      "                                                                                                  \n",
      " activation_1 (Activation)      (None, 64, 1856, 8)  0           ['batch_normalization_2[0][0]']  \n",
      "                                                                                                  \n",
      " conv2d_3 (Conv2D)              (None, 64, 1856, 8)  584         ['activation_1[0][0]']           \n",
      "                                                                                                  \n",
      " batch_normalization_3 (BatchNo  (None, 64, 1856, 8)  32         ['conv2d_3[0][0]']               \n",
      " rmalization)                                                                                     \n",
      "                                                                                                  \n",
      " conv2d_5 (Conv2D)              (None, 64, 1856, 8)  72          ['add[0][0]']                    \n",
      "                                                                                                  \n",
      " activation_2 (Activation)      (None, 64, 1856, 8)  0           ['batch_normalization_3[0][0]']  \n",
      "                                                                                                  \n",
      " batch_normalization_4 (BatchNo  (None, 64, 1856, 8)  32         ['conv2d_5[0][0]']               \n",
      " rmalization)                                                                                     \n",
      "                                                                                                  \n",
      " conv2d_4 (Conv2D)              (None, 64, 1856, 8)  584         ['activation_2[0][0]']           \n",
      "                                                                                                  \n",
      " add_1 (Add)                    (None, 64, 1856, 8)  0           ['batch_normalization_4[0][0]',  \n",
      "                                                                  'conv2d_4[0][0]']               \n",
      "                                                                                                  \n",
      " batch_normalization_5 (BatchNo  (None, 64, 1856, 8)  32         ['add_1[0][0]']                  \n",
      " rmalization)                                                                                     \n",
      "                                                                                                  \n",
      " activation_3 (Activation)      (None, 64, 1856, 8)  0           ['batch_normalization_5[0][0]']  \n",
      "                                                                                                  \n",
      " conv2d_6 (Conv2D)              (None, 32, 928, 16)  1168        ['activation_3[0][0]']           \n",
      "                                                                                                  \n",
      " batch_normalization_6 (BatchNo  (None, 32, 928, 16)  64         ['conv2d_6[0][0]']               \n",
      " rmalization)                                                                                     \n",
      "                                                                                                  \n",
      " conv2d_8 (Conv2D)              (None, 32, 928, 16)  144         ['add_1[0][0]']                  \n",
      "                                                                                                  \n",
      " activation_4 (Activation)      (None, 32, 928, 16)  0           ['batch_normalization_6[0][0]']  \n",
      "                                                                                                  \n",
      " batch_normalization_7 (BatchNo  (None, 32, 928, 16)  64         ['conv2d_8[0][0]']               \n",
      " rmalization)                                                                                     \n",
      "                                                                                                  \n",
      " conv2d_7 (Conv2D)              (None, 32, 928, 16)  2320        ['activation_4[0][0]']           \n",
      "                                                                                                  \n",
      " add_2 (Add)                    (None, 32, 928, 16)  0           ['batch_normalization_7[0][0]',  \n",
      "                                                                  'conv2d_7[0][0]']               \n",
      "                                                                                                  \n",
      " batch_normalization_8 (BatchNo  (None, 32, 928, 16)  64         ['add_2[0][0]']                  \n",
      " rmalization)                                                                                     \n",
      "                                                                                                  \n",
      " activation_5 (Activation)      (None, 32, 928, 16)  0           ['batch_normalization_8[0][0]']  \n",
      "                                                                                                  \n",
      " conv2d_9 (Conv2D)              (None, 16, 464, 32)  4640        ['activation_5[0][0]']           \n",
      "                                                                                                  \n",
      " batch_normalization_9 (BatchNo  (None, 16, 464, 32)  128        ['conv2d_9[0][0]']               \n",
      " rmalization)                                                                                     \n",
      "                                                                                                  \n",
      " conv2d_11 (Conv2D)             (None, 16, 464, 32)  544         ['add_2[0][0]']                  \n",
      "                                                                                                  \n",
      " activation_6 (Activation)      (None, 16, 464, 32)  0           ['batch_normalization_9[0][0]']  \n",
      "                                                                                                  \n",
      " batch_normalization_10 (BatchN  (None, 16, 464, 32)  128        ['conv2d_11[0][0]']              \n",
      " ormalization)                                                                                    \n",
      "                                                                                                  \n",
      " conv2d_10 (Conv2D)             (None, 16, 464, 32)  9248        ['activation_6[0][0]']           \n",
      "                                                                                                  \n",
      " add_3 (Add)                    (None, 16, 464, 32)  0           ['batch_normalization_10[0][0]', \n",
      "                                                                  'conv2d_10[0][0]']              \n",
      "                                                                                                  \n",
      " batch_normalization_11 (BatchN  (None, 16, 464, 32)  128        ['add_3[0][0]']                  \n",
      " ormalization)                                                                                    \n",
      "                                                                                                  \n",
      " activation_7 (Activation)      (None, 16, 464, 32)  0           ['batch_normalization_11[0][0]'] \n",
      "                                                                                                  \n",
      " conv2d_12 (Conv2D)             (None, 8, 232, 64)   18496       ['activation_7[0][0]']           \n",
      "                                                                                                  \n",
      " batch_normalization_12 (BatchN  (None, 8, 232, 64)  256         ['conv2d_12[0][0]']              \n",
      " ormalization)                                                                                    \n",
      "                                                                                                  \n",
      " conv2d_14 (Conv2D)             (None, 8, 232, 64)   2112        ['add_3[0][0]']                  \n",
      "                                                                                                  \n",
      " activation_8 (Activation)      (None, 8, 232, 64)   0           ['batch_normalization_12[0][0]'] \n",
      "                                                                                                  \n",
      " batch_normalization_13 (BatchN  (None, 8, 232, 64)  256         ['conv2d_14[0][0]']              \n",
      " ormalization)                                                                                    \n",
      "                                                                                                  \n",
      " conv2d_13 (Conv2D)             (None, 8, 232, 64)   36928       ['activation_8[0][0]']           \n",
      "                                                                                                  \n",
      " add_4 (Add)                    (None, 8, 232, 64)   0           ['batch_normalization_13[0][0]', \n",
      "                                                                  'conv2d_13[0][0]']              \n",
      "                                                                                                  \n",
      " batch_normalization_14 (BatchN  (None, 8, 232, 64)  256         ['add_4[0][0]']                  \n",
      " ormalization)                                                                                    \n",
      "                                                                                                  \n",
      " activation_9 (Activation)      (None, 8, 232, 64)   0           ['batch_normalization_14[0][0]'] \n",
      "                                                                                                  \n",
      " conv2d_15 (Conv2D)             (None, 4, 116, 128)  73856       ['activation_9[0][0]']           \n",
      "                                                                                                  \n",
      " batch_normalization_15 (BatchN  (None, 4, 116, 128)  512        ['conv2d_15[0][0]']              \n",
      " ormalization)                                                                                    \n",
      "                                                                                                  \n",
      " conv2d_17 (Conv2D)             (None, 4, 116, 128)  8320        ['add_4[0][0]']                  \n",
      "                                                                                                  \n",
      " activation_10 (Activation)     (None, 4, 116, 128)  0           ['batch_normalization_15[0][0]'] \n",
      "                                                                                                  \n",
      " batch_normalization_16 (BatchN  (None, 4, 116, 128)  512        ['conv2d_17[0][0]']              \n",
      " ormalization)                                                                                    \n",
      "                                                                                                  \n",
      " conv2d_16 (Conv2D)             (None, 4, 116, 128)  147584      ['activation_10[0][0]']          \n",
      "                                                                                                  \n",
      " add_5 (Add)                    (None, 4, 116, 128)  0           ['batch_normalization_16[0][0]', \n",
      "                                                                  'conv2d_16[0][0]']              \n",
      "                                                                                                  \n",
      " conv2d_18 (Conv2D)             (None, 4, 116, 100)  12900       ['add_5[0][0]']                  \n",
      "                                                                                                  \n",
      " conv2d_19 (Conv2D)             (None, 4, 116, 100)  115300      ['add_5[0][0]']                  \n",
      "                                                                                                  \n",
      " conv2d_20 (Conv2D)             (None, 4, 116, 100)  115300      ['add_5[0][0]']                  \n",
      "                                                                                                  \n",
      " conv2d_21 (Conv2D)             (None, 4, 116, 100)  115300      ['add_5[0][0]']                  \n",
      "                                                                                                  \n",
      " concatenate (Concatenate)      (None, 4, 116, 400)  0           ['conv2d_18[0][0]',              \n",
      "                                                                  'conv2d_19[0][0]',              \n",
      "                                                                  'conv2d_20[0][0]',              \n",
      "                                                                  'conv2d_21[0][0]']              \n",
      "                                                                                                  \n",
      " conv2d_22 (Conv2D)             (None, 4, 116, 128)  51328       ['concatenate[0][0]']            \n",
      "                                                                                                  \n",
      " up_sampling2d (UpSampling2D)   (None, 8, 232, 128)  0           ['conv2d_22[0][0]']              \n",
      "                                                                                                  \n",
      " concatenate_1 (Concatenate)    (None, 8, 232, 192)  0           ['up_sampling2d[0][0]',          \n",
      "                                                                  'add_4[0][0]']                  \n",
      "                                                                                                  \n",
      " up_sampling2d_1 (UpSampling2D)  (None, 16, 464, 192  0          ['concatenate_1[0][0]']          \n",
      "                                )                                                                 \n",
      "                                                                                                  \n",
      " concatenate_2 (Concatenate)    (None, 16, 464, 224  0           ['up_sampling2d_1[0][0]',        \n",
      "                                )                                 'add_3[0][0]']                  \n",
      "                                                                                                  \n",
      " up_sampling2d_2 (UpSampling2D)  (None, 32, 928, 224  0          ['concatenate_2[0][0]']          \n",
      "                                )                                                                 \n",
      "                                                                                                  \n",
      " concatenate_3 (Concatenate)    (None, 32, 928, 240  0           ['up_sampling2d_2[0][0]',        \n",
      "                                )                                 'add_2[0][0]']                  \n",
      "                                                                                                  \n",
      " up_sampling2d_3 (UpSampling2D)  (None, 64, 1856, 24  0          ['concatenate_3[0][0]']          \n",
      "                                0)                                                                \n",
      "                                                                                                  \n",
      " concatenate_4 (Concatenate)    (None, 64, 1856, 24  0           ['up_sampling2d_3[0][0]',        \n",
      "                                8)                                'add_1[0][0]']                  \n",
      "                                                                                                  \n",
      " batch_normalization_26 (BatchN  (None, 64, 1856, 24  992        ['concatenate_4[0][0]']          \n",
      " ormalization)                  8)                                                                \n",
      "                                                                                                  \n",
      " activation_17 (Activation)     (None, 64, 1856, 24  0           ['batch_normalization_26[0][0]'] \n",
      "                                8)                                                                \n",
      "                                                                                                  \n",
      " conv2d_32 (Conv2D)             (None, 64, 1856, 16  35728       ['activation_17[0][0]']          \n",
      "                                )                                                                 \n",
      "                                                                                                  \n",
      " batch_normalization_27 (BatchN  (None, 64, 1856, 16  64         ['conv2d_32[0][0]']              \n",
      " ormalization)                  )                                                                 \n",
      "                                                                                                  \n",
      " conv2d_34 (Conv2D)             (None, 64, 1856, 16  3984        ['concatenate_4[0][0]']          \n",
      "                                )                                                                 \n",
      "                                                                                                  \n",
      " activation_18 (Activation)     (None, 64, 1856, 16  0           ['batch_normalization_27[0][0]'] \n",
      "                                )                                                                 \n",
      "                                                                                                  \n",
      " batch_normalization_28 (BatchN  (None, 64, 1856, 16  64         ['conv2d_34[0][0]']              \n",
      " ormalization)                  )                                                                 \n",
      "                                                                                                  \n",
      " conv2d_33 (Conv2D)             (None, 64, 1856, 16  2320        ['activation_18[0][0]']          \n",
      "                                )                                                                 \n",
      "                                                                                                  \n",
      " add_9 (Add)                    (None, 64, 1856, 16  0           ['batch_normalization_28[0][0]', \n",
      "                                )                                 'conv2d_33[0][0]']              \n",
      "                                                                                                  \n",
      " conv2d_35 (Conv2D)             (None, 64, 1856, 13  221         ['add_9[0][0]']                  \n",
      "                                )                                                                 \n",
      "                                                                                                  \n",
      "==================================================================================================\n",
      "Total params: 763,661\n",
      "Trainable params: 761,821\n",
      "Non-trainable params: 1,840\n",
      "__________________________________________________________________________________________________\n"
     ]
    }
   ],
   "source": [
    "model.compile(optimizer=adam, loss=DiceLoss,\n",
    "              metrics=[tf.keras.metrics.MeanIoU(num_classes=13, name='mIoU')])\n",
    "\n",
    "model.summary()"
   ]
  },
  {
   "cell_type": "code",
   "execution_count": 23,
   "id": "0ac5edbf",
   "metadata": {
    "execution": {
     "iopub.execute_input": "2023-10-12T07:05:54.147742Z",
     "iopub.status.busy": "2023-10-12T07:05:54.147407Z",
     "iopub.status.idle": "2023-10-12T11:05:38.567888Z",
     "shell.execute_reply": "2023-10-12T11:05:38.566769Z"
    },
    "papermill": {
     "duration": 14384.444376,
     "end_time": "2023-10-12T11:05:38.575472",
     "exception": false,
     "start_time": "2023-10-12T07:05:54.131096",
     "status": "completed"
    },
    "tags": []
   },
   "outputs": [
    {
     "name": "stdout",
     "output_type": "stream",
     "text": [
      "Epoch 1/100\n",
      "240/240 [==============================] - 159s 604ms/step - loss: 0.4627 - mIoU: 0.4677 - val_loss: 0.7601 - val_mIoU: 0.4616 - lr: 0.0010\n",
      "Epoch 2/100\n",
      "240/240 [==============================] - 143s 595ms/step - loss: 0.3308 - mIoU: 0.4867 - val_loss: 0.4857 - val_mIoU: 0.4768 - lr: 0.0010\n",
      "Epoch 3/100\n",
      "240/240 [==============================] - 142s 589ms/step - loss: 0.3042 - mIoU: 0.5273 - val_loss: 0.2921 - val_mIoU: 0.5357 - lr: 0.0010\n",
      "Epoch 4/100\n",
      "240/240 [==============================] - 141s 586ms/step - loss: 0.2909 - mIoU: 0.5601 - val_loss: 0.2808 - val_mIoU: 0.5592 - lr: 0.0010\n",
      "Epoch 5/100\n",
      "240/240 [==============================] - 139s 579ms/step - loss: 0.2816 - mIoU: 0.5916 - val_loss: 0.2751 - val_mIoU: 0.6093 - lr: 0.0010\n",
      "Epoch 6/100\n",
      "240/240 [==============================] - 138s 573ms/step - loss: 0.2746 - mIoU: 0.6062 - val_loss: 0.2584 - val_mIoU: 0.6265 - lr: 0.0010\n",
      "Epoch 7/100\n",
      "240/240 [==============================] - 141s 588ms/step - loss: 0.2715 - mIoU: 0.6107 - val_loss: 0.2709 - val_mIoU: 0.6633 - lr: 0.0010\n",
      "Epoch 8/100\n",
      "240/240 [==============================] - 131s 545ms/step - loss: 0.2564 - mIoU: 0.6272 - val_loss: 0.2460 - val_mIoU: 0.6538 - lr: 0.0010\n",
      "Epoch 9/100\n",
      "240/240 [==============================] - 143s 595ms/step - loss: 0.2457 - mIoU: 0.6432 - val_loss: 0.2439 - val_mIoU: 0.6880 - lr: 0.0010\n",
      "Epoch 10/100\n",
      "240/240 [==============================] - 146s 605ms/step - loss: 0.2372 - mIoU: 0.6584 - val_loss: 0.2296 - val_mIoU: 0.6948 - lr: 0.0010\n",
      "Epoch 11/100\n",
      "240/240 [==============================] - 133s 556ms/step - loss: 0.2305 - mIoU: 0.6706 - val_loss: 0.2324 - val_mIoU: 0.6843 - lr: 0.0010\n",
      "Epoch 12/100\n",
      "240/240 [==============================] - 132s 549ms/step - loss: 0.2255 - mIoU: 0.6818 - val_loss: 0.2210 - val_mIoU: 0.6931 - lr: 0.0010\n",
      "Epoch 13/100\n",
      "240/240 [==============================] - 140s 582ms/step - loss: 0.2217 - mIoU: 0.6909 - val_loss: 0.2147 - val_mIoU: 0.7056 - lr: 0.0010\n",
      "Epoch 14/100\n",
      "240/240 [==============================] - 138s 575ms/step - loss: 0.2179 - mIoU: 0.6977 - val_loss: 0.2157 - val_mIoU: 0.7223 - lr: 0.0010\n",
      "Epoch 15/100\n",
      "240/240 [==============================] - 128s 533ms/step - loss: 0.2130 - mIoU: 0.7088 - val_loss: 0.2151 - val_mIoU: 0.6858 - lr: 0.0010\n",
      "Epoch 16/100\n",
      "240/240 [==============================] - 136s 566ms/step - loss: 0.2100 - mIoU: 0.7171 - val_loss: 0.2198 - val_mIoU: 0.7375 - lr: 0.0010\n",
      "Epoch 17/100\n",
      "240/240 [==============================] - 137s 570ms/step - loss: 0.2093 - mIoU: 0.7244 - val_loss: 0.2092 - val_mIoU: 0.7487 - lr: 0.0010\n",
      "Epoch 18/100\n",
      "240/240 [==============================] - 126s 525ms/step - loss: 0.2052 - mIoU: 0.7313 - val_loss: 0.2135 - val_mIoU: 0.7241 - lr: 0.0010\n",
      "Epoch 19/100\n",
      "240/240 [==============================] - 124s 517ms/step - loss: 0.2034 - mIoU: 0.7380 - val_loss: 0.2186 - val_mIoU: 0.7219 - lr: 0.0010\n",
      "Epoch 20/100\n",
      "240/240 [==============================] - 133s 554ms/step - loss: 0.2005 - mIoU: 0.7441 - val_loss: 0.2017 - val_mIoU: 0.7547 - lr: 0.0010\n",
      "Epoch 21/100\n",
      "240/240 [==============================] - 124s 517ms/step - loss: 0.1984 - mIoU: 0.7487 - val_loss: 0.2037 - val_mIoU: 0.7543 - lr: 0.0010\n",
      "Epoch 22/100\n",
      "240/240 [==============================] - 124s 513ms/step - loss: 0.1975 - mIoU: 0.7548 - val_loss: 0.2013 - val_mIoU: 0.7378 - lr: 0.0010\n",
      "Epoch 23/100\n",
      "240/240 [==============================] - 125s 518ms/step - loss: 0.1948 - mIoU: 0.7605 - val_loss: 0.2035 - val_mIoU: 0.7532 - lr: 0.0010\n",
      "Epoch 24/100\n",
      "240/240 [==============================] - 133s 555ms/step - loss: 0.1938 - mIoU: 0.7648 - val_loss: 0.2000 - val_mIoU: 0.7556 - lr: 0.0010\n",
      "Epoch 25/100\n",
      "240/240 [==============================] - 122s 508ms/step - loss: 0.1928 - mIoU: 0.7674 - val_loss: 0.2117 - val_mIoU: 0.7252 - lr: 0.0010\n",
      "Epoch 26/100\n",
      "240/240 [==============================] - 135s 563ms/step - loss: 0.1915 - mIoU: 0.7692 - val_loss: 0.2001 - val_mIoU: 0.7685 - lr: 0.0010\n",
      "Epoch 27/100\n",
      "240/240 [==============================] - 133s 553ms/step - loss: 0.1924 - mIoU: 0.7701 - val_loss: 0.1997 - val_mIoU: 0.7806 - lr: 0.0010\n",
      "Epoch 28/100\n",
      "240/240 [==============================] - 125s 519ms/step - loss: 0.1814 - mIoU: 0.7676 - val_loss: 0.1733 - val_mIoU: 0.7612 - lr: 0.0010\n",
      "Epoch 29/100\n",
      "240/240 [==============================] - 125s 518ms/step - loss: 0.1600 - mIoU: 0.7680 - val_loss: 0.1737 - val_mIoU: 0.7643 - lr: 0.0010\n",
      "Epoch 30/100\n",
      "240/240 [==============================] - 125s 521ms/step - loss: 0.1541 - mIoU: 0.7758 - val_loss: 0.1821 - val_mIoU: 0.7403 - lr: 0.0010\n",
      "Epoch 31/100\n",
      "240/240 [==============================] - 123s 514ms/step - loss: 0.1508 - mIoU: 0.7803 - val_loss: 0.1663 - val_mIoU: 0.7624 - lr: 0.0010\n",
      "Epoch 32/100\n",
      "240/240 [==============================] - 134s 556ms/step - loss: 0.1465 - mIoU: 0.7851 - val_loss: 0.1578 - val_mIoU: 0.7907 - lr: 0.0010\n",
      "Epoch 33/100\n",
      "240/240 [==============================] - 119s 493ms/step - loss: 0.1424 - mIoU: 0.7906 - val_loss: 0.1640 - val_mIoU: 0.7782 - lr: 0.0010\n",
      "Epoch 34/100\n",
      "240/240 [==============================] - 131s 546ms/step - loss: 0.1405 - mIoU: 0.7938 - val_loss: 0.1593 - val_mIoU: 0.7939 - lr: 0.0010\n",
      "Epoch 35/100\n",
      "240/240 [==============================] - 134s 557ms/step - loss: 0.1360 - mIoU: 0.7982 - val_loss: 0.1518 - val_mIoU: 0.8001 - lr: 0.0010\n",
      "Epoch 36/100\n",
      "240/240 [==============================] - 131s 544ms/step - loss: 0.1338 - mIoU: 0.8021 - val_loss: 0.1561 - val_mIoU: 0.7927 - lr: 0.0010\n",
      "Epoch 37/100\n",
      "240/240 [==============================] - 139s 578ms/step - loss: 0.1300 - mIoU: 0.8066 - val_loss: 0.1518 - val_mIoU: 0.7963 - lr: 0.0010\n",
      "Epoch 38/100\n",
      "240/240 [==============================] - 140s 582ms/step - loss: 0.1302 - mIoU: 0.8089 - val_loss: 0.1512 - val_mIoU: 0.8041 - lr: 0.0010\n",
      "Epoch 39/100\n",
      "240/240 [==============================] - 141s 587ms/step - loss: 0.1302 - mIoU: 0.8129 - val_loss: 0.1588 - val_mIoU: 0.8062 - lr: 0.0010\n",
      "Epoch 40/100\n",
      "240/240 [==============================] - 140s 581ms/step - loss: 0.1273 - mIoU: 0.8155 - val_loss: 0.1476 - val_mIoU: 0.8110 - lr: 0.0010\n",
      "Epoch 41/100\n",
      "240/240 [==============================] - 130s 542ms/step - loss: 0.1259 - mIoU: 0.8184 - val_loss: 0.1501 - val_mIoU: 0.8092 - lr: 0.0010\n",
      "Epoch 42/100\n",
      "240/240 [==============================] - 142s 590ms/step - loss: 0.1234 - mIoU: 0.8214 - val_loss: 0.1450 - val_mIoU: 0.8150 - lr: 0.0010\n",
      "Epoch 43/100\n",
      "240/240 [==============================] - 132s 550ms/step - loss: 0.1240 - mIoU: 0.8221 - val_loss: 0.1524 - val_mIoU: 0.8070 - lr: 0.0010\n",
      "Epoch 44/100\n",
      "240/240 [==============================] - 137s 571ms/step - loss: 0.1249 - mIoU: 0.8236 - val_loss: 0.1486 - val_mIoU: 0.8123 - lr: 0.0010\n",
      "Epoch 45/100\n",
      "240/240 [==============================] - 140s 583ms/step - loss: 0.1219 - mIoU: 0.8270 - val_loss: 0.1459 - val_mIoU: 0.8179 - lr: 0.0010\n",
      "Epoch 46/100\n",
      "240/240 [==============================] - 144s 599ms/step - loss: 0.1196 - mIoU: 0.8312 - val_loss: 0.1464 - val_mIoU: 0.8205 - lr: 0.0010\n",
      "Epoch 47/100\n",
      "240/240 [==============================] - ETA: 0s - loss: 0.1192 - mIoU: 0.8306\n",
      "Epoch 47: ReduceLROnPlateau reducing learning rate to 0.00010000000474974513.\n",
      "240/240 [==============================] - 132s 548ms/step - loss: 0.1192 - mIoU: 0.8306 - val_loss: 0.1487 - val_mIoU: 0.8088 - lr: 0.0010\n",
      "Epoch 48/100\n",
      "240/240 [==============================] - 140s 582ms/step - loss: 0.1131 - mIoU: 0.8369 - val_loss: 0.1375 - val_mIoU: 0.8244 - lr: 1.0000e-04\n",
      "Epoch 49/100\n",
      "240/240 [==============================] - 139s 581ms/step - loss: 0.1120 - mIoU: 0.8373 - val_loss: 0.1359 - val_mIoU: 0.8252 - lr: 1.0000e-04\n",
      "Epoch 50/100\n",
      "240/240 [==============================] - 131s 547ms/step - loss: 0.1112 - mIoU: 0.8371 - val_loss: 0.1354 - val_mIoU: 0.8250 - lr: 1.0000e-04\n",
      "Epoch 51/100\n",
      "240/240 [==============================] - 133s 553ms/step - loss: 0.1107 - mIoU: 0.8374 - val_loss: 0.1358 - val_mIoU: 0.8250 - lr: 1.0000e-04\n",
      "Epoch 52/100\n",
      "240/240 [==============================] - 134s 557ms/step - loss: 0.1103 - mIoU: 0.8370 - val_loss: 0.1360 - val_mIoU: 0.8237 - lr: 1.0000e-04\n",
      "Epoch 53/100\n",
      "240/240 [==============================] - 140s 583ms/step - loss: 0.1100 - mIoU: 0.8369 - val_loss: 0.1345 - val_mIoU: 0.8272 - lr: 1.0000e-04\n",
      "Epoch 54/100\n",
      "240/240 [==============================] - 132s 548ms/step - loss: 0.1096 - mIoU: 0.8371 - val_loss: 0.1353 - val_mIoU: 0.8234 - lr: 1.0000e-04\n",
      "Epoch 55/100\n",
      "240/240 [==============================] - 140s 583ms/step - loss: 0.1093 - mIoU: 0.8374 - val_loss: 0.1343 - val_mIoU: 0.8256 - lr: 1.0000e-04\n",
      "Epoch 56/100\n",
      "240/240 [==============================] - 133s 555ms/step - loss: 0.1093 - mIoU: 0.8369 - val_loss: 0.1342 - val_mIoU: 0.8254 - lr: 1.0000e-04\n",
      "Epoch 57/100\n",
      "240/240 [==============================] - 134s 560ms/step - loss: 0.1090 - mIoU: 0.8367 - val_loss: 0.1344 - val_mIoU: 0.8255 - lr: 1.0000e-04\n",
      "Epoch 58/100\n",
      "240/240 [==============================] - 135s 563ms/step - loss: 0.1086 - mIoU: 0.8370 - val_loss: 0.1354 - val_mIoU: 0.8246 - lr: 1.0000e-04\n",
      "Epoch 59/100\n",
      "240/240 [==============================] - 136s 566ms/step - loss: 0.1084 - mIoU: 0.8374 - val_loss: 0.1347 - val_mIoU: 0.8240 - lr: 1.0000e-04\n",
      "Epoch 60/100\n",
      "240/240 [==============================] - 147s 610ms/step - loss: 0.1081 - mIoU: 0.8372 - val_loss: 0.1337 - val_mIoU: 0.8258 - lr: 1.0000e-04\n",
      "Epoch 61/100\n",
      "240/240 [==============================] - 141s 588ms/step - loss: 0.1078 - mIoU: 0.8376 - val_loss: 0.1337 - val_mIoU: 0.8266 - lr: 1.0000e-04\n",
      "Epoch 62/100\n",
      "240/240 [==============================] - 137s 571ms/step - loss: 0.1078 - mIoU: 0.8377 - val_loss: 0.1341 - val_mIoU: 0.8270 - lr: 1.0000e-04\n",
      "Epoch 63/100\n",
      "240/240 [==============================] - 137s 571ms/step - loss: 0.1074 - mIoU: 0.8381 - val_loss: 0.1339 - val_mIoU: 0.8270 - lr: 1.0000e-04\n",
      "Epoch 64/100\n",
      "240/240 [==============================] - 135s 564ms/step - loss: 0.1073 - mIoU: 0.8377 - val_loss: 0.1352 - val_mIoU: 0.8256 - lr: 1.0000e-04\n",
      "Epoch 65/100\n",
      "240/240 [==============================] - ETA: 0s - loss: 0.1069 - mIoU: 0.8384\n",
      "Epoch 65: ReduceLROnPlateau reducing learning rate to 1.0000000474974514e-05.\n",
      "240/240 [==============================] - 134s 559ms/step - loss: 0.1069 - mIoU: 0.8384 - val_loss: 0.1342 - val_mIoU: 0.8267 - lr: 1.0000e-04\n",
      "Epoch 66/100\n",
      "240/240 [==============================] - 134s 559ms/step - loss: 0.1064 - mIoU: 0.8384 - val_loss: 0.1338 - val_mIoU: 0.8270 - lr: 1.0000e-05\n",
      "Epoch 67/100\n",
      "240/240 [==============================] - 146s 608ms/step - loss: 0.1064 - mIoU: 0.8386 - val_loss: 0.1329 - val_mIoU: 0.8272 - lr: 1.0000e-05\n",
      "Epoch 68/100\n",
      "240/240 [==============================] - 133s 553ms/step - loss: 0.1063 - mIoU: 0.8387 - val_loss: 0.1334 - val_mIoU: 0.8271 - lr: 1.0000e-05\n",
      "Epoch 69/100\n",
      "240/240 [==============================] - 139s 576ms/step - loss: 0.1061 - mIoU: 0.8386 - val_loss: 0.1338 - val_mIoU: 0.8270 - lr: 1.0000e-05\n",
      "Epoch 70/100\n",
      "240/240 [==============================] - 140s 582ms/step - loss: 0.1061 - mIoU: 0.8384 - val_loss: 0.1330 - val_mIoU: 0.8272 - lr: 1.0000e-05\n",
      "Epoch 71/100\n",
      "240/240 [==============================] - 141s 585ms/step - loss: 0.1059 - mIoU: 0.8385 - val_loss: 0.1334 - val_mIoU: 0.8272 - lr: 1.0000e-05\n",
      "Epoch 72/100\n",
      "240/240 [==============================] - ETA: 0s - loss: 0.1062 - mIoU: 0.8383\n",
      "Epoch 72: ReduceLROnPlateau reducing learning rate to 1.0000000656873453e-06.\n",
      "240/240 [==============================] - 139s 578ms/step - loss: 0.1062 - mIoU: 0.8383 - val_loss: 0.1337 - val_mIoU: 0.8267 - lr: 1.0000e-05\n",
      "Epoch 73/100\n",
      "240/240 [==============================] - 138s 574ms/step - loss: 0.1058 - mIoU: 0.8388 - val_loss: 0.1342 - val_mIoU: 0.8265 - lr: 1.0000e-06\n",
      "Epoch 74/100\n",
      "240/240 [==============================] - 140s 583ms/step - loss: 0.1061 - mIoU: 0.8385 - val_loss: 0.1332 - val_mIoU: 0.8269 - lr: 1.0000e-06\n",
      "Epoch 75/100\n",
      "240/240 [==============================] - 139s 580ms/step - loss: 0.1060 - mIoU: 0.8386 - val_loss: 0.1341 - val_mIoU: 0.8266 - lr: 1.0000e-06\n",
      "Epoch 76/100\n",
      "240/240 [==============================] - 143s 595ms/step - loss: 0.1060 - mIoU: 0.8386 - val_loss: 0.1340 - val_mIoU: 0.8272 - lr: 1.0000e-06\n",
      "Epoch 77/100\n",
      "240/240 [==============================] - ETA: 0s - loss: 0.1059 - mIoU: 0.8386\n",
      "Epoch 77: ReduceLROnPlateau reducing learning rate to 1.0000001111620805e-07.\n",
      "240/240 [==============================] - 136s 564ms/step - loss: 0.1059 - mIoU: 0.8386 - val_loss: 0.1340 - val_mIoU: 0.8264 - lr: 1.0000e-06\n",
      "Epoch 78/100\n",
      "240/240 [==============================] - 137s 572ms/step - loss: 0.1061 - mIoU: 0.8387 - val_loss: 0.1333 - val_mIoU: 0.8270 - lr: 1.0000e-07\n",
      "Epoch 79/100\n",
      "240/240 [==============================] - 140s 584ms/step - loss: 0.1058 - mIoU: 0.8387 - val_loss: 0.1333 - val_mIoU: 0.8269 - lr: 1.0000e-07\n",
      "Epoch 80/100\n",
      "240/240 [==============================] - 152s 632ms/step - loss: 0.1059 - mIoU: 0.8386 - val_loss: 0.1334 - val_mIoU: 0.8278 - lr: 1.0000e-07\n",
      "Epoch 81/100\n",
      "240/240 [==============================] - 143s 596ms/step - loss: 0.1059 - mIoU: 0.8383 - val_loss: 0.1341 - val_mIoU: 0.8267 - lr: 1.0000e-07\n",
      "Epoch 82/100\n",
      "240/240 [==============================] - ETA: 0s - loss: 0.1060 - mIoU: 0.8383\n",
      "Epoch 82: ReduceLROnPlateau reducing learning rate to 1.000000082740371e-08.\n",
      "240/240 [==============================] - 141s 585ms/step - loss: 0.1060 - mIoU: 0.8383 - val_loss: 0.1339 - val_mIoU: 0.8264 - lr: 1.0000e-07\n",
      "Epoch 83/100\n",
      "240/240 [==============================] - 141s 585ms/step - loss: 0.1060 - mIoU: 0.8385 - val_loss: 0.1332 - val_mIoU: 0.8267 - lr: 1.0000e-08\n",
      "Epoch 84/100\n",
      "240/240 [==============================] - 142s 588ms/step - loss: 0.1058 - mIoU: 0.8386 - val_loss: 0.1341 - val_mIoU: 0.8269 - lr: 1.0000e-08\n",
      "Epoch 85/100\n",
      "240/240 [==============================] - 141s 585ms/step - loss: 0.1060 - mIoU: 0.8386 - val_loss: 0.1334 - val_mIoU: 0.8272 - lr: 1.0000e-08\n",
      "Epoch 86/100\n",
      "240/240 [==============================] - 141s 586ms/step - loss: 0.1060 - mIoU: 0.8384 - val_loss: 0.1340 - val_mIoU: 0.8263 - lr: 1.0000e-08\n",
      "Epoch 87/100\n",
      "240/240 [==============================] - ETA: 0s - loss: 0.1059 - mIoU: 0.8387\n",
      "Epoch 87: ReduceLROnPlateau reducing learning rate to 1.000000082740371e-09.\n",
      "240/240 [==============================] - 140s 581ms/step - loss: 0.1059 - mIoU: 0.8387 - val_loss: 0.1339 - val_mIoU: 0.8267 - lr: 1.0000e-08\n",
      "Epoch 88/100\n",
      "240/240 [==============================] - 139s 577ms/step - loss: 0.1060 - mIoU: 0.8389 - val_loss: 0.1336 - val_mIoU: 0.8267 - lr: 1.0000e-09\n",
      "Epoch 89/100\n",
      "240/240 [==============================] - 138s 576ms/step - loss: 0.1059 - mIoU: 0.8387 - val_loss: 0.1326 - val_mIoU: 0.8272 - lr: 1.0000e-09\n",
      "Epoch 90/100\n",
      "240/240 [==============================] - 139s 579ms/step - loss: 0.1058 - mIoU: 0.8385 - val_loss: 0.1340 - val_mIoU: 0.8271 - lr: 1.0000e-09\n",
      "Epoch 91/100\n",
      "240/240 [==============================] - 141s 584ms/step - loss: 0.1059 - mIoU: 0.8386 - val_loss: 0.1332 - val_mIoU: 0.8269 - lr: 1.0000e-09\n",
      "Epoch 92/100\n",
      "240/240 [==============================] - 144s 599ms/step - loss: 0.1058 - mIoU: 0.8387 - val_loss: 0.1336 - val_mIoU: 0.8274 - lr: 1.0000e-09\n",
      "Epoch 93/100\n",
      "240/240 [==============================] - 141s 585ms/step - loss: 0.1060 - mIoU: 0.8385 - val_loss: 0.1333 - val_mIoU: 0.8265 - lr: 1.0000e-09\n",
      "Epoch 94/100\n",
      "240/240 [==============================] - ETA: 0s - loss: 0.1059 - mIoU: 0.8386\n",
      "Epoch 94: ReduceLROnPlateau reducing learning rate to 1.000000082740371e-10.\n",
      "240/240 [==============================] - 144s 597ms/step - loss: 0.1059 - mIoU: 0.8386 - val_loss: 0.1326 - val_mIoU: 0.8276 - lr: 1.0000e-09\n",
      "Epoch 95/100\n",
      "240/240 [==============================] - 140s 583ms/step - loss: 0.1060 - mIoU: 0.8385 - val_loss: 0.1343 - val_mIoU: 0.8264 - lr: 1.0000e-10\n",
      "Epoch 96/100\n",
      "240/240 [==============================] - 142s 592ms/step - loss: 0.1059 - mIoU: 0.8386 - val_loss: 0.1327 - val_mIoU: 0.8270 - lr: 1.0000e-10\n",
      "Epoch 97/100\n",
      "240/240 [==============================] - 143s 593ms/step - loss: 0.1059 - mIoU: 0.8385 - val_loss: 0.1333 - val_mIoU: 0.8270 - lr: 1.0000e-10\n",
      "Epoch 98/100\n",
      "240/240 [==============================] - 140s 582ms/step - loss: 0.1060 - mIoU: 0.8385 - val_loss: 0.1339 - val_mIoU: 0.8265 - lr: 1.0000e-10\n",
      "Epoch 99/100\n",
      "240/240 [==============================] - ETA: 0s - loss: 0.1058 - mIoU: 0.8385\n",
      "Epoch 99: ReduceLROnPlateau reducing learning rate to 1.000000082740371e-11.\n",
      "240/240 [==============================] - 140s 583ms/step - loss: 0.1058 - mIoU: 0.8385 - val_loss: 0.1329 - val_mIoU: 0.8271 - lr: 1.0000e-10\n",
      "Epoch 100/100\n",
      "240/240 [==============================] - 142s 592ms/step - loss: 0.1060 - mIoU: 0.8383 - val_loss: 0.1333 - val_mIoU: 0.8270 - lr: 1.0000e-11\n"
     ]
    }
   ],
   "source": [
    "epochs = 100\n",
    "history = model.fit(train_dataloader, validation_data=valid_dataloader,\n",
    "                    steps_per_epoch=len(train_dataloader),\n",
    "                    validation_steps=len(valid_dataloader), epochs=epochs,\n",
    "                    callbacks=[learning_rate_reduction,model_checkpoint_callback])"
   ]
  },
  {
   "cell_type": "code",
   "execution_count": 24,
   "id": "3b7e611b",
   "metadata": {
    "execution": {
     "iopub.execute_input": "2023-10-12T11:05:41.184939Z",
     "iopub.status.busy": "2023-10-12T11:05:41.184290Z",
     "iopub.status.idle": "2023-10-12T11:05:41.956619Z",
     "shell.execute_reply": "2023-10-12T11:05:41.955685Z"
    },
    "papermill": {
     "duration": 2.155128,
     "end_time": "2023-10-12T11:05:41.959280",
     "exception": false,
     "start_time": "2023-10-12T11:05:39.804152",
     "status": "completed"
    },
    "tags": []
   },
   "outputs": [
    {
     "data": {
      "image/png": "[encoded data removed]",
      "text/plain": [
       "<Figure size 1200x600 with 2 Axes>"
      ]
     },
     "metadata": {},
     "output_type": "display_data"
    }
   ],
   "source": [
    "import matplotlib.pyplot as plt\n",
    "\n",
    "# Plot training & validation Mean Intersection over Union (mIoU) values\n",
    "plt.figure(figsize=(12, 6))\n",
    "plt.subplot(1, 2, 1)\n",
    "plt.plot(history.history['mIoU'], label='Train mIoU')\n",
    "plt.plot(history.history['val_mIoU'], label='Val mIoU')\n",
    "plt.title('Model mIoU')\n",
    "plt.ylabel('mIoU')\n",
    "plt.xlabel('Epoch')\n",
    "plt.legend()\n",
    "\n",
    "# Plot training & validation loss values\n",
    "plt.subplot(1, 2, 2)\n",
    "plt.plot(history.history['loss'], label='Train Loss')\n",
    "plt.plot(history.history['val_loss'], label='Val Loss')\n",
    "plt.title('Model loss')\n",
    "plt.ylabel('Loss')\n",
    "plt.xlabel('Epoch')\n",
    "plt.legend()\n",
    "\n",
    "plt.tight_layout()\n",
    "plt.show()"
   ]
  },
  {
   "cell_type": "code",
   "execution_count": 25,
   "id": "87200f6e",
   "metadata": {
    "execution": {
     "iopub.execute_input": "2023-10-12T11:05:44.527741Z",
     "iopub.status.busy": "2023-10-12T11:05:44.527178Z",
     "iopub.status.idle": "2023-10-12T11:06:21.784802Z",
     "shell.execute_reply": "2023-10-12T11:06:21.783637Z"
    },
    "papermill": {
     "duration": 38.581894,
     "end_time": "2023-10-12T11:06:21.788647",
     "exception": false,
     "start_time": "2023-10-12T11:05:43.206753",
     "status": "completed"
    },
    "tags": []
   },
   "outputs": [
    {
     "name": "stdout",
     "output_type": "stream",
     "text": [
      "640/640 [==============================] - 37s 58ms/step - loss: 0.1329 - mIoU: 0.8269\n"
     ]
    },
    {
     "data": {
      "text/plain": [
       "[0.13294388353824615, 0.8268569111824036]"
      ]
     },
     "execution_count": 25,
     "metadata": {},
     "output_type": "execute_result"
    }
   ],
   "source": [
    "model.evaluate(test_dataloader)"
   ]
  },
  {
   "cell_type": "code",
   "execution_count": 26,
   "id": "b3a0b407",
   "metadata": {
    "execution": {
     "iopub.execute_input": "2023-10-12T11:06:24.542263Z",
     "iopub.status.busy": "2023-10-12T11:06:24.541021Z",
     "iopub.status.idle": "2023-10-12T11:06:24.898294Z",
     "shell.execute_reply": "2023-10-12T11:06:24.897042Z"
    },
    "papermill": {
     "duration": 1.740884,
     "end_time": "2023-10-12T11:06:24.900705",
     "exception": false,
     "start_time": "2023-10-12T11:06:23.159821",
     "status": "completed"
    },
    "tags": []
   },
   "outputs": [],
   "source": [
    "from keras.models import load_model\n",
    "\n",
    "# Lưu mô hình\n",
    "model.save('ver3_700k.h5')\n",
    "\n",
    "\n",
    "# # Đăng ký hàm loss tùy chỉnh 'DiceLoss'\n",
    "# keras.utils.get_custom_objects().update({\"DiceLoss\": DiceLoss})\n",
    "\n",
    "# model = load_model('/kaggle/input/modelver2/ver2.h5')\n"
   ]
  },
  {
   "cell_type": "code",
   "execution_count": null,
   "id": "ce1e57b5",
   "metadata": {
    "papermill": {
     "duration": 1.324905,
     "end_time": "2023-10-12T11:06:27.635868",
     "exception": false,
     "start_time": "2023-10-12T11:06:26.310963",
     "status": "completed"
    },
    "tags": []
   },
   "outputs": [],
   "source": []
  }
 ],
 "metadata": {
  "kernelspec": {
   "display_name": "Python 3",
   "language": "python",
   "name": "python3"
  },
  "language_info": {
   "codemirror_mode": {
    "name": "ipython",
    "version": 3
   },
   "file_extension": ".py",
   "mimetype": "text/x-python",
   "name": "python",
   "nbconvert_exporter": "python",
   "pygments_lexer": "ipython3",
   "version": "3.10.12"
  },
  "papermill": {
   "default_parameters": {},
   "duration": 14583.62462,
   "end_time": "2023-10-12T11:06:32.615723",
   "environment_variables": {},
   "exception": null,
   "input_path": "__notebook__.ipynb",
   "output_path": "__notebook__.ipynb",
   "parameters": {},
   "start_time": "2023-10-12T07:03:28.991103",
   "version": "2.4.0"
  }
 },
 "nbformat": 4,
 "nbformat_minor": 5
}
